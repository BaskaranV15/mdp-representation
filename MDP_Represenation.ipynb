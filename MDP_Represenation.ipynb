{
  "nbformat": 4,
  "nbformat_minor": 0,
  "metadata": {
    "colab": {
      "provenance": [],
      "authorship_tag": "ABX9TyP9MTKugKHcnLWehPfb6zab",
      "include_colab_link": true
    },
    "kernelspec": {
      "name": "python3",
      "display_name": "Python 3"
    },
    "language_info": {
      "name": "python"
    }
  },
  "cells": [
    {
      "cell_type": "markdown",
      "metadata": {
        "id": "view-in-github",
        "colab_type": "text"
      },
      "source": [
        "<a href=\"https://colab.research.google.com/github/BaskaranV15/mdp-representation/blob/main/MDP_Represenation.ipynb\" target=\"_parent\"><img src=\"https://colab.research.google.com/assets/colab-badge.svg\" alt=\"Open In Colab\"/></a>"
      ]
    },
    {
      "cell_type": "code",
      "execution_count": null,
      "metadata": {
        "id": "jvTdGkVnhswa"
      },
      "outputs": [],
      "source": [
        "p = {\n",
        "    -1: {\n",
        "        0:[(1.0,-1,0.0,True)],\n",
        "        1:[(0.8,0,0.0,False),(0.2,-1,0.0,True)]\n",
        "    },\n",
        "    0: {\n",
        "        0:[(0.8,-1,0.0,True),(0.2,0,0.0,False)],\n",
        "        1:[(0.8,1,0.0,False),(0.2,0,0.0,False)]\n",
        "    },\n",
        "    1: {\n",
        "        0:[(0.8,0,0.0,False),(0.2,1,0.0,False)],\n",
        "        1:[(0.8,2,+1.0,True),(0.2,1,0.0,False)]\n",
        "    },\n",
        "    2: {\n",
        "        0:[(1.0,2,0.0,True)],\n",
        "        1:[(1.0,2,0.0,True)]\n",
        "    }\n",
        "\n",
        "}"
      ]
    },
    {
      "cell_type": "code",
      "source": [
        "p\n"
      ],
      "metadata": {
        "id": "jfg-YzoYiP9c",
        "outputId": "f342eed9-0bda-4e6c-8916-7425ed7d6173",
        "colab": {
          "base_uri": "https://localhost:8080/"
        }
      },
      "execution_count": null,
      "outputs": [
        {
          "output_type": "execute_result",
          "data": {
            "text/plain": [
              "{-1: {0: [(1.0, -1, 0.0, True)],\n",
              "  1: [(0.8, 0, 0.0, False), (0.2, -1, 0.0, True)]},\n",
              " 0: {0: [(0.8, -1, 0.0, True), (0.2, 0, 0.0, False)],\n",
              "  1: [(0.8, 1, 0.0, False), (0.2, 0, 0.0, False)]},\n",
              " 1: {0: [(0.8, 0, 0.0, False), (0.2, 1, 0.0, False)],\n",
              "  1: [(0.8, 2, 1.0, True), (0.2, 1, 0.0, False)]},\n",
              " 2: {0: [(1.0, 2, 0.0, True)], 1: [(1.0, 2, 0.0, True)]}}"
            ]
          },
          "metadata": {},
          "execution_count": 2
        }
      ]
    },
    {
      "cell_type": "code",
      "source": [],
      "metadata": {
        "id": "AclCldxgiRH2"
      },
      "execution_count": null,
      "outputs": []
    }
  ]
}